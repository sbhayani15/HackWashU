{
 "cells": [
  {
   "cell_type": "code",
   "execution_count": 1,
   "id": "29aa1eb2",
   "metadata": {},
   "outputs": [],
   "source": [
    "import pandas as pd\n",
    "import numpy as np\n",
    "import math\n",
    "\n",
    "from sklearn.preprocessing import StandardScaler as SS # z-score standardization \n",
    "from sklearn.cluster import KMeans, DBSCAN # clustering algorithms\n",
    "from sklearn.metrics import silhouette_score # used as a metric to evaluate the cohesion in a cluster\n",
    "from sklearn.neighbors import NearestNeighbors\n",
    "\n",
    "import warnings\n",
    "warnings.filterwarnings(\"ignore\")"
   ]
  },
  {
   "cell_type": "code",
   "execution_count": 2,
   "id": "d4afe322",
   "metadata": {},
   "outputs": [],
   "source": [
    "data = pd.read_csv(\"Spotify_Youtube.csv\", index_col = 0)"
   ]
  },
  {
   "cell_type": "code",
   "execution_count": 3,
   "id": "fc0c929c",
   "metadata": {},
   "outputs": [],
   "source": [
    "#SPOTIPY_CLIENT_ID = \"e67f8aadfcd2400b912e1c372e332ec4\"\n",
    "#SPOTIPY_CLIENT_SECRET = \"6749f19d38584e3fa8b955253f4d5444\"\n",
    "#SPOTIPY_REDIRECT_URI = \"http://localhost:3000\"\n",
    "import spotipy\n",
    "from spotipy.oauth2 import SpotifyClientCredentials\n",
    "import requests\n",
    "\n",
    "CLIENT_ID = \"e67f8aadfcd2400b912e1c372e332ec4\"\n",
    "CLIENT_SECRET = \"6749f19d38584e3fa8b955253f4d5444\"\n",
    "\n",
    "AUTH_URL = \"https://accounts.spotify.com/api/token\"\n",
    "auth_response = requests.post(AUTH_URL, {\n",
    "    'grant_type': 'client_credentials',\n",
    "    'client_id': CLIENT_ID,\n",
    "    'client_secret': CLIENT_SECRET, })\n",
    "\n",
    "#Convert response to JSON\n",
    "auth_response_data = auth_response.json()\n",
    "\n",
    "#Save the access token\n",
    "access_token = auth_response_data['access_token']\n",
    "\n",
    "#Need to pass access token into header to send properly formed GET request to API server\n",
    "headers = {'Authorization': 'Bearer {token}'.format(token=access_token)}"
   ]
  },
  {
   "cell_type": "code",
   "execution_count": 4,
   "id": "59271721",
   "metadata": {},
   "outputs": [],
   "source": [
    "def getSimilarity(obj1, obj2):\n",
    "  len1 = len(obj1)\n",
    "  len2 = len(obj2)\n",
    "  if not (len1 == len2):\n",
    "    print (\"Error: Compared objects must have same number of features.\")\n",
    "    sys.exit()\n",
    "    return 0\n",
    "  else:\n",
    "    similarity = []\n",
    "    similarity = obj1-obj2\n",
    "    similarity = np.sum((similarity**2.0) / 10.0)\n",
    "    similarity = 1 - math.sqrt(similarity)\n",
    "    return similarity"
   ]
  },
  {
   "cell_type": "code",
   "execution_count": 7,
   "id": "ec073e98",
   "metadata": {},
   "outputs": [],
   "source": [
    "def recommendation(url):\n",
    "    q = url.split('?')\n",
    "    p = q[0].split('/')\n",
    "    \n",
    "    BASE_URL = 'https://api.spotify.com/v1/audio-features/'\n",
    "    FINAL_URL = BASE_URL + p[4]\n",
    "    r = requests.get(FINAL_URL, headers=headers)\n",
    "    r = r.json()\n",
    "\n",
    "    x = pd.DataFrame.from_dict(r, orient = 'index')\n",
    "    x = x.transpose()\n",
    "    y = x[['danceability', 'energy', 'key', 'loudness', 'speechiness', 'acousticness', \n",
    "       'instrumentalness', 'liveness', 'valence', 'tempo']]\n",
    "    y = y.rename(columns={'danceability': 'Danceability', 'energy': 'Energy', 'key': 'Key', 'loudness': 'Loudness', \n",
    "                      'speechiness': 'Speechiness', 'acousticness': 'Acousticness', 'instrumentalness': 'Instrumentalness', \n",
    "                     'liveness': 'Liveness', 'valence': 'Valence', 'tempo': 'Tempo'})\n",
    "\n",
    "    df = data.drop(columns=[\"Artist\", \"Url_spotify\", \"Track\", \"Album\", \"Album_type\", \"Uri\", \"Duration_ms\", \"Url_youtube\", \"Title\", \"Channel\", \"Views\", \"Likes\", \"Comments\", \"Description\", \"Licensed\", \"official_video\", \"Stream\"],inplace=False)\n",
    "    df1 = df.dropna()\n",
    "\n",
    "    df2 = pd.concat([df1, y])\n",
    "\n",
    "    df2.loc[len(df.index)] = df2.mean()\n",
    "    norm_arr = pd.DataFrame()\n",
    "    for col in df2:\n",
    "        norm_arr[col] = df2[col] /df2[col].abs().max()\n",
    "    \n",
    "    new_col = []\n",
    "    for index, row in norm_arr.iterrows():\n",
    "        score = getSimilarity(np.array(row), norm_arr.iloc[-1])\n",
    "        new_col.append(score)\n",
    "    \n",
    "    \n",
    "    norm_arr[\"sim_score\"] = new_col\n",
    "    norm_arr = norm_arr[:-1]\n",
    "\n",
    "    norm_sliced = norm_arr[[\"sim_score\"]]\n",
    "\n",
    "    kmeans1 = KMeans(n_clusters=5, random_state=42).fit(norm_sliced)\n",
    "    clusters = kmeans1.predict(norm_sliced)\n",
    "    norm_sliced[\"clusters\"] = clusters\n",
    "\n",
    "    c = norm_sliced.iloc[-1][\"clusters\"]\n",
    "\n",
    "    m = norm_sliced[norm_sliced[\"clusters\"] == c].index\n",
    "    m2 = m.values\n",
    "    g = np.random.choice(m2, size = 5, replace = False)\n",
    "    \n",
    "    print(\"Five recommended songs for you are: \")\n",
    "    for i in g:\n",
    "        print(data.iloc[i]['Track'] + \" by \" + data.iloc[i][\"Artist\"])"
   ]
  },
  {
   "cell_type": "code",
   "execution_count": 8,
   "id": "eb1c74f4",
   "metadata": {},
   "outputs": [
    {
     "name": "stdout",
     "output_type": "stream",
     "text": [
      "Five recommended songs for you are: \n",
      "I'll Be There by Jess Glynne\n",
      "Lovely Day by Bill Withers\n",
      "Waiting On the World to Change by John Mayer\n",
      "Arthur's Theme (Best That You Can Do) by Christopher Cross\n",
      "Soy El Ratón by Código FN\n"
     ]
    }
   ],
   "source": [
    "recommendation(\"https://open.spotify.com/track/2zYzyRzz6pRmhPzyfMEC8s?si=b6731663be404b49\")"
   ]
  },
  {
   "cell_type": "code",
   "execution_count": null,
   "id": "ac71c069",
   "metadata": {},
   "outputs": [],
   "source": []
  }
 ],
 "metadata": {
  "kernelspec": {
   "display_name": "Python 3 (ipykernel)",
   "language": "python",
   "name": "python3"
  },
  "language_info": {
   "codemirror_mode": {
    "name": "ipython",
    "version": 3
   },
   "file_extension": ".py",
   "mimetype": "text/x-python",
   "name": "python",
   "nbconvert_exporter": "python",
   "pygments_lexer": "ipython3",
   "version": "3.11.4"
  }
 },
 "nbformat": 4,
 "nbformat_minor": 5
}
